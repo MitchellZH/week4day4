{
 "cells": [
  {
   "cell_type": "markdown",
   "id": "7196054f",
   "metadata": {},
   "source": [
    "# Working with APIs"
   ]
  },
  {
   "cell_type": "markdown",
   "id": "0547b71e",
   "metadata": {},
   "source": [
    "API stands for Application programming interface<br>\n",
    "APIs are a way for applications to talk to eachother<br>\n",
    "In python we use the requests package to handle the connection<br>\n",
    "<small><strong>Note: It is requests with an s not request(this is a different package)</strong></small><br>\n",
    "Most API's communicate with data in the form of JSON<br>\n",
    "JSON stands for JavaScript Object Notation"
   ]
  },
  {
   "attachments": {},
   "cell_type": "markdown",
   "id": "cc80a1f0",
   "metadata": {},
   "source": [
    "### importing requests module"
   ]
  },
  {
   "cell_type": "code",
   "execution_count": 4,
   "id": "4db9d154",
   "metadata": {},
   "outputs": [],
   "source": [
    "import requests"
   ]
  },
  {
   "cell_type": "markdown",
   "id": "e8c2ce51",
   "metadata": {},
   "source": [
    "We will be connecting to the Ergast F1 Racer API today:\n",
    "http://ergast.com/mrd/\n",
    "\n",
    "to view JSON data nicely in the Chrome browser install the extension JSONview"
   ]
  },
  {
   "cell_type": "code",
   "execution_count": 2,
   "id": "52c440c6",
   "metadata": {},
   "outputs": [],
   "source": [
    "# Make sure to attach extension .json at the end of url\n",
    "url = 'https://ergast.com/api/f1/2020/1/driverStandings.json'"
   ]
  },
  {
   "attachments": {},
   "cell_type": "markdown",
   "id": "1f8dc8b3",
   "metadata": {},
   "source": [
    "### using the requests package to access data from api/url"
   ]
  },
  {
   "cell_type": "code",
   "execution_count": 6,
   "id": "f60c1b4a",
   "metadata": {},
   "outputs": [
    {
     "name": "stdout",
     "output_type": "stream",
     "text": [
      "<class 'requests.models.Response'>\n"
     ]
    }
   ],
   "source": [
    "response = requests.get(url)\n",
    "print(type(response))"
   ]
  },
  {
   "attachments": {},
   "cell_type": "markdown",
   "id": "52f840a9",
   "metadata": {},
   "source": [
    "### checking and making sure we got a successful response from our API\n",
    "#### status codes: 200 = ok/successful, 400 = bad/unsuccessful"
   ]
  },
  {
   "cell_type": "code",
   "execution_count": 7,
   "id": "7b63a204",
   "metadata": {},
   "outputs": [
    {
     "data": {
      "text/plain": [
       "200"
      ]
     },
     "execution_count": 7,
     "metadata": {},
     "output_type": "execute_result"
    }
   ],
   "source": [
    "response.ok\n",
    "response.status_code"
   ]
  },
  {
   "attachments": {},
   "cell_type": "markdown",
   "id": "bc3fa89d",
   "metadata": {},
   "source": [
    "### view the response as a JSON with .json()"
   ]
  },
  {
   "cell_type": "code",
   "execution_count": 9,
   "id": "ed4d3256",
   "metadata": {},
   "outputs": [],
   "source": [
    "data = response.json()"
   ]
  },
  {
   "attachments": {},
   "cell_type": "markdown",
   "id": "3b49045f",
   "metadata": {},
   "source": [
    "### Get the Driver Standings Data from JSON"
   ]
  },
  {
   "cell_type": "code",
   "execution_count": 11,
   "id": "f074dfcf",
   "metadata": {},
   "outputs": [
    {
     "name": "stdout",
     "output_type": "stream",
     "text": [
      "[{'position': '1', 'positionText': '1', 'points': '25', 'wins': '1', 'Driver': {'driverId': 'bottas', 'permanentNumber': '77', 'code': 'BOT', 'url': 'http://en.wikipedia.org/wiki/Valtteri_Bottas', 'givenName': 'Valtteri', 'familyName': 'Bottas', 'dateOfBirth': '1989-08-28', 'nationality': 'Finnish'}, 'Constructors': [{'constructorId': 'mercedes', 'url': 'http://en.wikipedia.org/wiki/Mercedes-Benz_in_Formula_One', 'name': 'Mercedes', 'nationality': 'German'}]}, {'position': '2', 'positionText': '2', 'points': '18', 'wins': '0', 'Driver': {'driverId': 'leclerc', 'permanentNumber': '16', 'code': 'LEC', 'url': 'http://en.wikipedia.org/wiki/Charles_Leclerc', 'givenName': 'Charles', 'familyName': 'Leclerc', 'dateOfBirth': '1997-10-16', 'nationality': 'Monegasque'}, 'Constructors': [{'constructorId': 'ferrari', 'url': 'http://en.wikipedia.org/wiki/Scuderia_Ferrari', 'name': 'Ferrari', 'nationality': 'Italian'}]}, {'position': '3', 'positionText': '3', 'points': '16', 'wins': '0', 'Driver': {'driverId': 'norris', 'permanentNumber': '4', 'code': 'NOR', 'url': 'http://en.wikipedia.org/wiki/Lando_Norris', 'givenName': 'Lando', 'familyName': 'Norris', 'dateOfBirth': '1999-11-13', 'nationality': 'British'}, 'Constructors': [{'constructorId': 'mclaren', 'url': 'http://en.wikipedia.org/wiki/McLaren', 'name': 'McLaren', 'nationality': 'British'}]}, {'position': '4', 'positionText': '4', 'points': '12', 'wins': '0', 'Driver': {'driverId': 'hamilton', 'permanentNumber': '44', 'code': 'HAM', 'url': 'http://en.wikipedia.org/wiki/Lewis_Hamilton', 'givenName': 'Lewis', 'familyName': 'Hamilton', 'dateOfBirth': '1985-01-07', 'nationality': 'British'}, 'Constructors': [{'constructorId': 'mercedes', 'url': 'http://en.wikipedia.org/wiki/Mercedes-Benz_in_Formula_One', 'name': 'Mercedes', 'nationality': 'German'}]}, {'position': '5', 'positionText': '5', 'points': '10', 'wins': '0', 'Driver': {'driverId': 'sainz', 'permanentNumber': '55', 'code': 'SAI', 'url': 'http://en.wikipedia.org/wiki/Carlos_Sainz_Jr.', 'givenName': 'Carlos', 'familyName': 'Sainz', 'dateOfBirth': '1994-09-01', 'nationality': 'Spanish'}, 'Constructors': [{'constructorId': 'mclaren', 'url': 'http://en.wikipedia.org/wiki/McLaren', 'name': 'McLaren', 'nationality': 'British'}]}, {'position': '6', 'positionText': '6', 'points': '8', 'wins': '0', 'Driver': {'driverId': 'perez', 'permanentNumber': '11', 'code': 'PER', 'url': 'http://en.wikipedia.org/wiki/Sergio_P%C3%A9rez', 'givenName': 'Sergio', 'familyName': 'Pérez', 'dateOfBirth': '1990-01-26', 'nationality': 'Mexican'}, 'Constructors': [{'constructorId': 'racing_point', 'url': 'http://en.wikipedia.org/wiki/Racing_Point_F1_Team', 'name': 'Racing Point', 'nationality': 'British'}]}, {'position': '7', 'positionText': '7', 'points': '6', 'wins': '0', 'Driver': {'driverId': 'gasly', 'permanentNumber': '10', 'code': 'GAS', 'url': 'http://en.wikipedia.org/wiki/Pierre_Gasly', 'givenName': 'Pierre', 'familyName': 'Gasly', 'dateOfBirth': '1996-02-07', 'nationality': 'French'}, 'Constructors': [{'constructorId': 'alphatauri', 'url': 'http://en.wikipedia.org/wiki/Scuderia_AlphaTauri', 'name': 'AlphaTauri', 'nationality': 'Italian'}]}, {'position': '8', 'positionText': '8', 'points': '4', 'wins': '0', 'Driver': {'driverId': 'ocon', 'permanentNumber': '31', 'code': 'OCO', 'url': 'http://en.wikipedia.org/wiki/Esteban_Ocon', 'givenName': 'Esteban', 'familyName': 'Ocon', 'dateOfBirth': '1996-09-17', 'nationality': 'French'}, 'Constructors': [{'constructorId': 'renault', 'url': 'http://en.wikipedia.org/wiki/Renault_in_Formula_One', 'name': 'Renault', 'nationality': 'French'}]}, {'position': '9', 'positionText': '9', 'points': '2', 'wins': '0', 'Driver': {'driverId': 'giovinazzi', 'permanentNumber': '99', 'code': 'GIO', 'url': 'http://en.wikipedia.org/wiki/Antonio_Giovinazzi', 'givenName': 'Antonio', 'familyName': 'Giovinazzi', 'dateOfBirth': '1993-12-14', 'nationality': 'Italian'}, 'Constructors': [{'constructorId': 'alfa', 'url': 'http://en.wikipedia.org/wiki/Alfa_Romeo_in_Formula_One', 'name': 'Alfa Romeo', 'nationality': 'Swiss'}]}, {'position': '10', 'positionText': '10', 'points': '1', 'wins': '0', 'Driver': {'driverId': 'vettel', 'permanentNumber': '5', 'code': 'VET', 'url': 'http://en.wikipedia.org/wiki/Sebastian_Vettel', 'givenName': 'Sebastian', 'familyName': 'Vettel', 'dateOfBirth': '1987-07-03', 'nationality': 'German'}, 'Constructors': [{'constructorId': 'ferrari', 'url': 'http://en.wikipedia.org/wiki/Scuderia_Ferrari', 'name': 'Ferrari', 'nationality': 'Italian'}]}, {'position': '11', 'positionText': '11', 'points': '0', 'wins': '0', 'Driver': {'driverId': 'latifi', 'permanentNumber': '6', 'code': 'LAT', 'url': 'http://en.wikipedia.org/wiki/Nicholas_Latifi', 'givenName': 'Nicholas', 'familyName': 'Latifi', 'dateOfBirth': '1995-06-29', 'nationality': 'Canadian'}, 'Constructors': [{'constructorId': 'williams', 'url': 'http://en.wikipedia.org/wiki/Williams_Grand_Prix_Engineering', 'name': 'Williams', 'nationality': 'British'}]}, {'position': '12', 'positionText': '12', 'points': '0', 'wins': '0', 'Driver': {'driverId': 'kvyat', 'permanentNumber': '26', 'code': 'KVY', 'url': 'http://en.wikipedia.org/wiki/Daniil_Kvyat', 'givenName': 'Daniil', 'familyName': 'Kvyat', 'dateOfBirth': '1994-04-26', 'nationality': 'Russian'}, 'Constructors': [{'constructorId': 'alphatauri', 'url': 'http://en.wikipedia.org/wiki/Scuderia_AlphaTauri', 'name': 'AlphaTauri', 'nationality': 'Italian'}]}, {'position': '13', 'positionText': '13', 'points': '0', 'wins': '0', 'Driver': {'driverId': 'albon', 'permanentNumber': '23', 'code': 'ALB', 'url': 'http://en.wikipedia.org/wiki/Alexander_Albon', 'givenName': 'Alexander', 'familyName': 'Albon', 'dateOfBirth': '1996-03-23', 'nationality': 'Thai'}, 'Constructors': [{'constructorId': 'red_bull', 'url': 'http://en.wikipedia.org/wiki/Red_Bull_Racing', 'name': 'Red Bull', 'nationality': 'Austrian'}]}, {'position': '14', 'positionText': '14', 'points': '0', 'wins': '0', 'Driver': {'driverId': 'raikkonen', 'permanentNumber': '7', 'code': 'RAI', 'url': 'http://en.wikipedia.org/wiki/Kimi_R%C3%A4ikk%C3%B6nen', 'givenName': 'Kimi', 'familyName': 'Räikkönen', 'dateOfBirth': '1979-10-17', 'nationality': 'Finnish'}, 'Constructors': [{'constructorId': 'alfa', 'url': 'http://en.wikipedia.org/wiki/Alfa_Romeo_in_Formula_One', 'name': 'Alfa Romeo', 'nationality': 'Swiss'}]}, {'position': '15', 'positionText': '15', 'points': '0', 'wins': '0', 'Driver': {'driverId': 'russell', 'permanentNumber': '63', 'code': 'RUS', 'url': 'http://en.wikipedia.org/wiki/George_Russell_(racing_driver)', 'givenName': 'George', 'familyName': 'Russell', 'dateOfBirth': '1998-02-15', 'nationality': 'British'}, 'Constructors': [{'constructorId': 'williams', 'url': 'http://en.wikipedia.org/wiki/Williams_Grand_Prix_Engineering', 'name': 'Williams', 'nationality': 'British'}]}, {'position': '16', 'positionText': '16', 'points': '0', 'wins': '0', 'Driver': {'driverId': 'grosjean', 'permanentNumber': '8', 'code': 'GRO', 'url': 'http://en.wikipedia.org/wiki/Romain_Grosjean', 'givenName': 'Romain', 'familyName': 'Grosjean', 'dateOfBirth': '1986-04-17', 'nationality': 'French'}, 'Constructors': [{'constructorId': 'haas', 'url': 'http://en.wikipedia.org/wiki/Haas_F1_Team', 'name': 'Haas F1 Team', 'nationality': 'American'}]}, {'position': '17', 'positionText': '17', 'points': '0', 'wins': '0', 'Driver': {'driverId': 'kevin_magnussen', 'permanentNumber': '20', 'code': 'MAG', 'url': 'http://en.wikipedia.org/wiki/Kevin_Magnussen', 'givenName': 'Kevin', 'familyName': 'Magnussen', 'dateOfBirth': '1992-10-05', 'nationality': 'Danish'}, 'Constructors': [{'constructorId': 'haas', 'url': 'http://en.wikipedia.org/wiki/Haas_F1_Team', 'name': 'Haas F1 Team', 'nationality': 'American'}]}, {'position': '18', 'positionText': '18', 'points': '0', 'wins': '0', 'Driver': {'driverId': 'stroll', 'permanentNumber': '18', 'code': 'STR', 'url': 'http://en.wikipedia.org/wiki/Lance_Stroll', 'givenName': 'Lance', 'familyName': 'Stroll', 'dateOfBirth': '1998-10-29', 'nationality': 'Canadian'}, 'Constructors': [{'constructorId': 'racing_point', 'url': 'http://en.wikipedia.org/wiki/Racing_Point_F1_Team', 'name': 'Racing Point', 'nationality': 'British'}]}, {'position': '19', 'positionText': '19', 'points': '0', 'wins': '0', 'Driver': {'driverId': 'ricciardo', 'permanentNumber': '3', 'code': 'RIC', 'url': 'http://en.wikipedia.org/wiki/Daniel_Ricciardo', 'givenName': 'Daniel', 'familyName': 'Ricciardo', 'dateOfBirth': '1989-07-01', 'nationality': 'Australian'}, 'Constructors': [{'constructorId': 'renault', 'url': 'http://en.wikipedia.org/wiki/Renault_in_Formula_One', 'name': 'Renault', 'nationality': 'French'}]}, {'position': '20', 'positionText': '20', 'points': '0', 'wins': '0', 'Driver': {'driverId': 'max_verstappen', 'permanentNumber': '33', 'code': 'VER', 'url': 'http://en.wikipedia.org/wiki/Max_Verstappen', 'givenName': 'Max', 'familyName': 'Verstappen', 'dateOfBirth': '1997-09-30', 'nationality': 'Dutch'}, 'Constructors': [{'constructorId': 'red_bull', 'url': 'http://en.wikipedia.org/wiki/Red_Bull_Racing', 'name': 'Red Bull', 'nationality': 'Austrian'}]}]\n"
     ]
    }
   ],
   "source": [
    "driver_standings_data = data['MRData']['StandingsTable']['StandingsLists'][0]['DriverStandings']\n",
    "print(driver_standings_data)"
   ]
  },
  {
   "attachments": {},
   "cell_type": "markdown",
   "id": "459823db",
   "metadata": {},
   "source": [
    "### Use a for loop to display all driver full names"
   ]
  },
  {
   "cell_type": "code",
   "execution_count": 13,
   "id": "be46a950",
   "metadata": {},
   "outputs": [
    {
     "name": "stdout",
     "output_type": "stream",
     "text": [
      "Valtteri Bottas\n",
      "Charles Leclerc\n",
      "Lando Norris\n",
      "Lewis Hamilton\n",
      "Carlos Sainz\n",
      "Sergio Pérez\n",
      "Pierre Gasly\n",
      "Esteban Ocon\n",
      "Antonio Giovinazzi\n",
      "Sebastian Vettel\n",
      "Nicholas Latifi\n",
      "Daniil Kvyat\n",
      "Alexander Albon\n",
      "Kimi Räikkönen\n",
      "George Russell\n",
      "Romain Grosjean\n",
      "Kevin Magnussen\n",
      "Lance Stroll\n",
      "Daniel Ricciardo\n",
      "Max Verstappen\n"
     ]
    }
   ],
   "source": [
    "for driver in driver_standings_data:\n",
    "    print(f\"{driver['Driver']['givenName']} {driver['Driver']['familyName']}\")"
   ]
  },
  {
   "attachments": {},
   "cell_type": "markdown",
   "id": "43c20f0d",
   "metadata": {},
   "source": [
    "### Create a function getting certain driver info (givenName, familyName, dateOfBirth, wins, team)"
   ]
  },
  {
   "cell_type": "code",
   "execution_count": 21,
   "id": "3740c752",
   "metadata": {},
   "outputs": [
    {
     "data": {
      "text/plain": [
       "[{'first_name': 'Valtteri',\n",
       "  'last_name': 'Bottas',\n",
       "  'DOB': '1989-08-28',\n",
       "  'wins': '1',\n",
       "  'team': 'Mercedes'},\n",
       " {'first_name': 'Charles',\n",
       "  'last_name': 'Leclerc',\n",
       "  'DOB': '1997-10-16',\n",
       "  'wins': '0',\n",
       "  'team': 'Ferrari'},\n",
       " {'first_name': 'Lando',\n",
       "  'last_name': 'Norris',\n",
       "  'DOB': '1999-11-13',\n",
       "  'wins': '0',\n",
       "  'team': 'McLaren'},\n",
       " {'first_name': 'Lewis',\n",
       "  'last_name': 'Hamilton',\n",
       "  'DOB': '1985-01-07',\n",
       "  'wins': '0',\n",
       "  'team': 'Mercedes'},\n",
       " {'first_name': 'Carlos',\n",
       "  'last_name': 'Sainz',\n",
       "  'DOB': '1994-09-01',\n",
       "  'wins': '0',\n",
       "  'team': 'McLaren'},\n",
       " {'first_name': 'Sergio',\n",
       "  'last_name': 'Pérez',\n",
       "  'DOB': '1990-01-26',\n",
       "  'wins': '0',\n",
       "  'team': 'Racing Point'},\n",
       " {'first_name': 'Pierre',\n",
       "  'last_name': 'Gasly',\n",
       "  'DOB': '1996-02-07',\n",
       "  'wins': '0',\n",
       "  'team': 'AlphaTauri'},\n",
       " {'first_name': 'Esteban',\n",
       "  'last_name': 'Ocon',\n",
       "  'DOB': '1996-09-17',\n",
       "  'wins': '0',\n",
       "  'team': 'Renault'},\n",
       " {'first_name': 'Antonio',\n",
       "  'last_name': 'Giovinazzi',\n",
       "  'DOB': '1993-12-14',\n",
       "  'wins': '0',\n",
       "  'team': 'Alfa Romeo'},\n",
       " {'first_name': 'Sebastian',\n",
       "  'last_name': 'Vettel',\n",
       "  'DOB': '1987-07-03',\n",
       "  'wins': '0',\n",
       "  'team': 'Ferrari'},\n",
       " {'first_name': 'Nicholas',\n",
       "  'last_name': 'Latifi',\n",
       "  'DOB': '1995-06-29',\n",
       "  'wins': '0',\n",
       "  'team': 'Williams'},\n",
       " {'first_name': 'Daniil',\n",
       "  'last_name': 'Kvyat',\n",
       "  'DOB': '1994-04-26',\n",
       "  'wins': '0',\n",
       "  'team': 'AlphaTauri'},\n",
       " {'first_name': 'Alexander',\n",
       "  'last_name': 'Albon',\n",
       "  'DOB': '1996-03-23',\n",
       "  'wins': '0',\n",
       "  'team': 'Red Bull'},\n",
       " {'first_name': 'Kimi',\n",
       "  'last_name': 'Räikkönen',\n",
       "  'DOB': '1979-10-17',\n",
       "  'wins': '0',\n",
       "  'team': 'Alfa Romeo'},\n",
       " {'first_name': 'George',\n",
       "  'last_name': 'Russell',\n",
       "  'DOB': '1998-02-15',\n",
       "  'wins': '0',\n",
       "  'team': 'Williams'},\n",
       " {'first_name': 'Romain',\n",
       "  'last_name': 'Grosjean',\n",
       "  'DOB': '1986-04-17',\n",
       "  'wins': '0',\n",
       "  'team': 'Haas F1 Team'},\n",
       " {'first_name': 'Kevin',\n",
       "  'last_name': 'Magnussen',\n",
       "  'DOB': '1992-10-05',\n",
       "  'wins': '0',\n",
       "  'team': 'Haas F1 Team'},\n",
       " {'first_name': 'Lance',\n",
       "  'last_name': 'Stroll',\n",
       "  'DOB': '1998-10-29',\n",
       "  'wins': '0',\n",
       "  'team': 'Racing Point'},\n",
       " {'first_name': 'Daniel',\n",
       "  'last_name': 'Ricciardo',\n",
       "  'DOB': '1989-07-01',\n",
       "  'wins': '0',\n",
       "  'team': 'Renault'},\n",
       " {'first_name': 'Max',\n",
       "  'last_name': 'Verstappen',\n",
       "  'DOB': '1997-09-30',\n",
       "  'wins': '0',\n",
       "  'team': 'Red Bull'}]"
      ]
     },
     "execution_count": 21,
     "metadata": {},
     "output_type": "execute_result"
    }
   ],
   "source": [
    "def get_driver_info(data):\n",
    "    new_driver_data = []\n",
    "    for driver in data:\n",
    "        driver_dict = {\n",
    "            'first_name': driver['Driver']['givenName'],\n",
    "            'last_name': driver['Driver']['familyName'],\n",
    "            'DOB': driver['Driver']['dateOfBirth'],\n",
    "            'wins': driver['wins'],\n",
    "            'team': driver['Constructors'][0]['name']\n",
    "        }\n",
    "        new_driver_data.append(driver_dict)\n",
    "    return new_driver_data\n",
    "get_driver_info(driver_standings_data)"
   ]
  },
  {
   "attachments": {},
   "cell_type": "markdown",
   "id": "1a713b13",
   "metadata": {},
   "source": [
    "### Making a more flexible function to handle different years and rounds"
   ]
  },
  {
   "cell_type": "code",
   "execution_count": 20,
   "id": "e9866280",
   "metadata": {},
   "outputs": [
    {
     "data": {
      "text/plain": [
       "[{'first_name': 'Max',\n",
       "  'last_name': 'Verstappen',\n",
       "  'DOB': '1997-09-30',\n",
       "  'wins': '2',\n",
       "  'team': 'Red Bull'},\n",
       " {'first_name': 'Lewis',\n",
       "  'last_name': 'Hamilton',\n",
       "  'DOB': '1985-01-07',\n",
       "  'wins': '3',\n",
       "  'team': 'Mercedes'},\n",
       " {'first_name': 'Lando',\n",
       "  'last_name': 'Norris',\n",
       "  'DOB': '1999-11-13',\n",
       "  'wins': '0',\n",
       "  'team': 'McLaren'},\n",
       " {'first_name': 'Valtteri',\n",
       "  'last_name': 'Bottas',\n",
       "  'DOB': '1989-08-28',\n",
       "  'wins': '0',\n",
       "  'team': 'Mercedes'},\n",
       " {'first_name': 'Sergio',\n",
       "  'last_name': 'Pérez',\n",
       "  'DOB': '1990-01-26',\n",
       "  'wins': '0',\n",
       "  'team': 'Red Bull'},\n",
       " {'first_name': 'Charles',\n",
       "  'last_name': 'Leclerc',\n",
       "  'DOB': '1997-10-16',\n",
       "  'wins': '0',\n",
       "  'team': 'Ferrari'},\n",
       " {'first_name': 'Carlos',\n",
       "  'last_name': 'Sainz',\n",
       "  'DOB': '1994-09-01',\n",
       "  'wins': '0',\n",
       "  'team': 'Ferrari'},\n",
       " {'first_name': 'Daniel',\n",
       "  'last_name': 'Ricciardo',\n",
       "  'DOB': '1989-07-01',\n",
       "  'wins': '0',\n",
       "  'team': 'McLaren'},\n",
       " {'first_name': 'Pierre',\n",
       "  'last_name': 'Gasly',\n",
       "  'DOB': '1996-02-07',\n",
       "  'wins': '0',\n",
       "  'team': 'AlphaTauri'},\n",
       " {'first_name': 'Esteban',\n",
       "  'last_name': 'Ocon',\n",
       "  'DOB': '1996-09-17',\n",
       "  'wins': '0',\n",
       "  'team': 'Alpine F1 Team'},\n",
       " {'first_name': 'Sebastian',\n",
       "  'last_name': 'Vettel',\n",
       "  'DOB': '1987-07-03',\n",
       "  'wins': '0',\n",
       "  'team': 'Aston Martin'},\n",
       " {'first_name': 'Lance',\n",
       "  'last_name': 'Stroll',\n",
       "  'DOB': '1998-10-29',\n",
       "  'wins': '0',\n",
       "  'team': 'Aston Martin'},\n",
       " {'first_name': 'Fernando',\n",
       "  'last_name': 'Alonso',\n",
       "  'DOB': '1981-07-29',\n",
       "  'wins': '0',\n",
       "  'team': 'Alpine F1 Team'},\n",
       " {'first_name': 'Yuki',\n",
       "  'last_name': 'Tsunoda',\n",
       "  'DOB': '2000-05-11',\n",
       "  'wins': '0',\n",
       "  'team': 'AlphaTauri'},\n",
       " {'first_name': 'Antonio',\n",
       "  'last_name': 'Giovinazzi',\n",
       "  'DOB': '1993-12-14',\n",
       "  'wins': '0',\n",
       "  'team': 'Alfa Romeo'},\n",
       " {'first_name': 'Kimi',\n",
       "  'last_name': 'Räikkönen',\n",
       "  'DOB': '1979-10-17',\n",
       "  'wins': '0',\n",
       "  'team': 'Alfa Romeo'},\n",
       " {'first_name': 'George',\n",
       "  'last_name': 'Russell',\n",
       "  'DOB': '1998-02-15',\n",
       "  'wins': '0',\n",
       "  'team': 'Williams'},\n",
       " {'first_name': 'Nicholas',\n",
       "  'last_name': 'Latifi',\n",
       "  'DOB': '1995-06-29',\n",
       "  'wins': '0',\n",
       "  'team': 'Williams'},\n",
       " {'first_name': 'Mick',\n",
       "  'last_name': 'Schumacher',\n",
       "  'DOB': '1999-03-22',\n",
       "  'wins': '0',\n",
       "  'team': 'Haas F1 Team'},\n",
       " {'first_name': 'Nikita',\n",
       "  'last_name': 'Mazepin',\n",
       "  'DOB': '1999-03-02',\n",
       "  'wins': '0',\n",
       "  'team': 'Haas F1 Team'}]"
      ]
     },
     "execution_count": 20,
     "metadata": {},
     "output_type": "execute_result"
    }
   ],
   "source": [
    "def get_driver_driver_info_year_rnd(year, rnd):\n",
    "    url = f\"https://ergast.com/api/f1/{year}/{rnd}/driverStandings.json\"\n",
    "    response = requests.get(url)\n",
    "    if response.ok:\n",
    "        data = response.json()\n",
    "        driver_standings_data = data['MRData']['StandingsTable']['StandingsLists'][0]['DriverStandings']\n",
    "        return get_driver_info(driver_standings_data)\n",
    "    else:\n",
    "        return 'That year or round does not exist! Please try again'\n",
    "    \n",
    "get_driver_driver_info_year_rnd(2021,5)"
   ]
  },
  {
   "cell_type": "markdown",
   "id": "6d546014",
   "metadata": {},
   "source": [
    "# <strong>Homework</strong>\n",
    "check out this Pokemon API https://pokeapi.co/\n",
    "Use the requests package to connect to this API and get and store data for 5 different pokemon.\n",
    "Get the pokemons: name, atleast one ability's name, base_experience, and the URL for its sprite (an image that shows up on screen) for the 'front_shiny', attack base_stat, hp base_stat, defense base_stat"
   ]
  },
  {
   "cell_type": "code",
   "execution_count": 31,
   "id": "5a9081e3",
   "metadata": {},
   "outputs": [
    {
     "name": "stdout",
     "output_type": "stream",
     "text": [
      "{'name': 'croagunk', 'ability_names': 'anticipation', 'base_experience': 60, 'sprites': 'https://raw.githubusercontent.com/PokeAPI/sprites/master/sprites/pokemon/shiny/453.png', 'stats': {'hp': 48, 'attack': 61, 'defense': 40}}\n",
      "{'name': 'pikachu', 'ability_names': 'static', 'base_experience': 112, 'sprites': 'https://raw.githubusercontent.com/PokeAPI/sprites/master/sprites/pokemon/shiny/25.png', 'stats': {'hp': 35, 'attack': 55, 'defense': 40}}\n",
      "{'name': 'charizard', 'ability_names': 'blaze', 'base_experience': 267, 'sprites': 'https://raw.githubusercontent.com/PokeAPI/sprites/master/sprites/pokemon/shiny/6.png', 'stats': {'hp': 78, 'attack': 84, 'defense': 78}}\n",
      "{'name': 'blastoise', 'ability_names': 'torrent', 'base_experience': 265, 'sprites': 'https://raw.githubusercontent.com/PokeAPI/sprites/master/sprites/pokemon/shiny/9.png', 'stats': {'hp': 79, 'attack': 83, 'defense': 100}}\n",
      "{'name': 'arceus', 'ability_names': 'multitype', 'base_experience': 324, 'sprites': 'https://raw.githubusercontent.com/PokeAPI/sprites/master/sprites/pokemon/shiny/493.png', 'stats': {'hp': 120, 'attack': 120, 'defense': 120}}\n"
     ]
    }
   ],
   "source": [
    "def get_pokemon_info(name):\n",
    "    url = f'https://pokeapi.co/api/v2/pokemon/{name}'\n",
    "    response = requests.get(url)\n",
    "    data = response.json()\n",
    "    attribute_dict = {\n",
    "        'name': data['name'],\n",
    "        'ability_names': data['abilities'][0]['ability']['name'],\n",
    "        'base_experience': data['base_experience'],\n",
    "        'sprites': data['sprites']['front_shiny'],\n",
    "        'stats': {\n",
    "            'hp': data['stats'][0]['base_stat'],\n",
    "            'attack': data['stats'][1]['base_stat'],\n",
    "            'defense': data['stats'][2]['base_stat']\n",
    "        }\n",
    "    }\n",
    "    print(attribute_dict)\n",
    "\n",
    "get_pokemon_info('croagunk')\n",
    "get_pokemon_info('pikachu')\n",
    "get_pokemon_info('charizard')\n",
    "get_pokemon_info('blastoise')\n",
    "get_pokemon_info('arceus')\n",
    "    \n",
    "\n",
    "\n",
    "\n",
    "\n"
   ]
  }
 ],
 "metadata": {
  "kernelspec": {
   "display_name": "Python 3.10.8 64-bit (microsoft store)",
   "language": "python",
   "name": "python3"
  },
  "language_info": {
   "codemirror_mode": {
    "name": "ipython",
    "version": 3
   },
   "file_extension": ".py",
   "mimetype": "text/x-python",
   "name": "python",
   "nbconvert_exporter": "python",
   "pygments_lexer": "ipython3",
   "version": "3.11.3"
  },
  "vscode": {
   "interpreter": {
    "hash": "aa82987a71ca0339a52998cd22613b0c002bda8349fa32a0cb67ceec3936a2bf"
   }
  }
 },
 "nbformat": 4,
 "nbformat_minor": 5
}
